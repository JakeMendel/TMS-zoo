{
 "cells": [
  {
   "cell_type": "code",
   "execution_count": null,
   "metadata": {},
   "outputs": [],
   "source": [
    "def loss_function(s, w1, w2):\n",
    "    case1 = lambda s, w1, w2 : 1/6*(s-1)*(-(w1**2 + w2**2 - 2)*(-3*(s-1)*w1*w2 + 2*w1**2 + 2*w2**2)-4)\n",
    "    case2_1 = lambda s, w1, w2 : s*(1 - s)/3 * ((w2**2 - 1)**2 + (w1**2 - 1)**2) + (1 - s)**2 * (4*w1**5 + 6*w1**4*w2 + 4*w1**3*(w2**2 - 2) + w1**2*w2*(w2**2 - 6) + 8*w1 - w2**5 + 4*w2**3)/(12*w1)\n",
    "    case2_2 = lambda s, w1, w2: s*(1 - s)/3 * ((w2**2 - 1)**2 + (w1**2 - 1)**2) + (1 - s)**2 * (4*(w1**2 - 2)*w2**3 + w1*(w1**2 - 6)*w2**2 - w1**3*(w1**2 - 4) + 6*w1*w2**4 + 4*w2**5 + 8*w2)/(12*w2)\n",
    "    case3_1 = s*(1 - s)/3 * ((w2**2 - 1)**2 + (w1**2 - 1)**2) + (1 - s)**2 * (4*w1**5 + 6*w1**4*w2 + 4*w1**3*(w2**2 - 2) + w1**2*w2*(w2**2 - 6) + 8*w1 - w2**5 + 4*w2**3)/(12*w1)\n",
    "    case3_2 = s*(1 - s)/3 * ((w2**2 - 1)**2 + (w1**2 - 1)**2) + (1 - s)**2 * (4*(w1**2 - 2)*w2**3 + w1*(w1**2 - 6)*w2**2 - w1**3*(w1**2 - 4) + 6*w1*w2**4 + 4*w2**5 + 8*w2)/(12*w2)\n",
    "    if w1 <= 0 and w2 <= 0 or w1 >= 0 and w2 >= 0:\n",
    "        return case1(s,w1,w2)\n",
    "    if w1 < 0 and w2 > 0 and w1 + w2 <= 0:\n",
    "        return case2_1(s,w1,w2)\n",
    "    if w1 < 0 and w2 > 0 and w1 + w2 > 0:\n",
    "        return case2_2(s,w1,w2)\n",
    "    if w1 > 0 and w2 < 0 and w1 + w2 <= 0:\n",
    "        return case3_1(s,w1,w2)\n",
    "    if w1 > 0 and w2 < 0 and w1 + w2 > 0:\n",
    "        return case3_2(s,w1,w2)"
   ]
  },
  {
   "cell_type": "code",
   "execution_count": null,
   "metadata": {},
   "outputs": [],
   "source": []
  },
  {
   "cell_type": "code",
   "execution_count": null,
   "metadata": {},
   "outputs": [],
   "source": []
  }
 ],
 "metadata": {
  "kernelspec": {
   "display_name": "env",
   "language": "python",
   "name": "python3"
  },
  "language_info": {
   "name": "python",
   "version": "3.8.16"
  },
  "orig_nbformat": 4
 },
 "nbformat": 4,
 "nbformat_minor": 2
}
