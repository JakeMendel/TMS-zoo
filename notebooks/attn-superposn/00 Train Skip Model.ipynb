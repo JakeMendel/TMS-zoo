{
 "cells": [
  {
   "cell_type": "code",
   "execution_count": null,
   "metadata": {},
   "outputs": [],
   "source": []
  },
  {
   "cell_type": "markdown",
   "metadata": {},
   "source": [
    "## Generate the skip trigram dataset\n"
   ]
  },
  {
   "cell_type": "code",
   "execution_count": null,
   "metadata": {},
   "outputs": [],
   "source": [
    "from transformer_lens import HookedTransformer, HookedTransformerConfig\n",
    "import torch\n",
    "\n",
    "num_digits = 9\n",
    "device = torch.device('cuda' if torch.cuda.is_available() else 'cpu')\n",
    "cfg = HookedTransformerConfig(\n",
    "    n_layers = 1,\n",
    "    d_model  = 128,\n",
    "    d_head   = 32,\n",
    "    n_heads  = 4,\n",
    "    d_vocab  = num_digits,\n",
    "    n_ctx    = 128,\n",
    "    attn_only= True,\n",
    "    device   = device,\n",
    ")\n",
    "model = HookedTransformer(cfg)\n",
    "from transformer_lens.components import Unembed, Embed\n",
    "\n",
    "# Override unembeddings and embeddings to be identity\n",
    "embed = Embed(cfg)\n",
    "embed.W_E = torch.nn.Parameter(torch.eye(cfg.d_vocab), requires_grad=False)\n",
    "unembed = Unembed(cfg)\n",
    "unembed.W_U = torch.nn.Parameter(torch.eye(cfg.d_vocab), requires_grad=False)\n",
    "unembed.b_U = torch.nn.Parameter(torch.zeros(cfg.d_vocab), requires_grad=False)\n",
    "\n",
    "model.embed = embed\n",
    "model.unembed = unembed\n",
    "\n",
    "model = model.to(device)"
   ]
  },
  {
   "cell_type": "code",
   "execution_count": null,
   "metadata": {},
   "outputs": [],
   "source": [
    "inp = torch.randint(0, 10, (16, 10), device=device)\n",
    "\n",
    "print(inp.shape)\n",
    "print(model(inp))"
   ]
  },
  {
   "cell_type": "markdown",
   "metadata": {},
   "source": []
  }
 ],
 "metadata": {
  "kernelspec": {
   "display_name": "slt_env",
   "language": "python",
   "name": "python3"
  },
  "language_info": {
   "codemirror_mode": {
    "name": "ipython",
    "version": 3
   },
   "file_extension": ".py",
   "mimetype": "text/x-python",
   "name": "python",
   "nbconvert_exporter": "python",
   "pygments_lexer": "ipython3",
   "version": "3.10.11"
  }
 },
 "nbformat": 4,
 "nbformat_minor": 2
}
