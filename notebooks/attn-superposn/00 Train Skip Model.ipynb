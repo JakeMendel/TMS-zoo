{
 "cells": [
  {
   "cell_type": "code",
   "execution_count": null,
   "metadata": {},
   "outputs": [],
   "source": []
  },
  {
   "cell_type": "markdown",
   "metadata": {},
   "source": [
    "## Generate the skip trigram dataset\n"
   ]
  },
  {
   "cell_type": "code",
   "execution_count": 13,
   "metadata": {},
   "outputs": [
    {
     "name": "stdout",
     "output_type": "stream",
     "text": [
      "Moving model to device:  cuda\n"
     ]
    }
   ],
   "source": [
    "from transformer_lens import HookedTransformer, HookedTransformerConfig\n",
    "import torch\n",
    "\n",
    "num_digits = 9\n",
    "device = torch.device('cuda' if torch.cuda.is_available() else 'cpu')\n",
    "cfg = HookedTransformerConfig(\n",
    "    n_layers = 1,\n",
    "    d_model  = 128,\n",
    "    d_head   = 32,\n",
    "    n_heads  = 4,\n",
    "    d_vocab  = num_digits,\n",
    "    n_ctx    = 128,\n",
    "    attn_only= True,\n",
    "    device   = device,\n",
    ")\n",
    "model = HookedTransformer(cfg)\n",
    "from transformer_lens.components import Unembed, Embed\n",
    "\n",
    "# Override unembeddings and embeddings to be identity\n",
    "embed = Embed(cfg)\n",
    "embed.W_E = torch.nn.Parameter(torch.eye(cfg.d_vocab), requires_grad=False)\n",
    "unembed = Unembed(cfg)\n",
    "unembed.W_U = torch.nn.Parameter(torch.eye(cfg.d_vocab), requires_grad=False)\n",
    "unembed.b_U = torch.nn.Parameter(torch.zeros(cfg.d_vocab), requires_grad=False)\n",
    "\n",
    "model.embed = embed\n",
    "model.unembed = unembed\n",
    "\n",
    "model = model.to(device)"
   ]
  },
  {
   "cell_type": "code",
   "execution_count": 15,
   "metadata": {},
   "outputs": [
    {
     "ename": "RuntimeError",
     "evalue": "CUDA error: device-side assert triggered\nCUDA kernel errors might be asynchronously reported at some other API call, so the stacktrace below might be incorrect.\nFor debugging consider passing CUDA_LAUNCH_BLOCKING=1.\nCompile with `TORCH_USE_CUDA_DSA` to enable device-side assertions.\n",
     "output_type": "error",
     "traceback": [
      "\u001b[0;31m---------------------------------------------------------------------------\u001b[0m",
      "\u001b[0;31mRuntimeError\u001b[0m                              Traceback (most recent call last)",
      "Cell \u001b[0;32mIn[15], line 1\u001b[0m\n\u001b[0;32m----> 1\u001b[0m inp \u001b[39m=\u001b[39m torch\u001b[39m.\u001b[39;49mrandint(\u001b[39m0\u001b[39;49m, \u001b[39m10\u001b[39;49m, (\u001b[39m16\u001b[39;49m, \u001b[39m10\u001b[39;49m), device\u001b[39m=\u001b[39;49mdevice)\n\u001b[1;32m      2\u001b[0m \u001b[39mprint\u001b[39m(inp\u001b[39m.\u001b[39mshape)\n\u001b[1;32m      3\u001b[0m \u001b[39mprint\u001b[39m(model(inp))\n",
      "\u001b[0;31mRuntimeError\u001b[0m: CUDA error: device-side assert triggered\nCUDA kernel errors might be asynchronously reported at some other API call, so the stacktrace below might be incorrect.\nFor debugging consider passing CUDA_LAUNCH_BLOCKING=1.\nCompile with `TORCH_USE_CUDA_DSA` to enable device-side assertions.\n"
     ]
    }
   ],
   "source": [
    "inp = torch.randint(0, 10, (16, 10), device=device)\n",
    "\n",
    "print(inp.shape)\n",
    "print(model(inp))"
   ]
  },
  {
   "cell_type": "markdown",
   "metadata": {},
   "source": []
  }
 ],
 "metadata": {
  "kernelspec": {
   "display_name": "slt_env",
   "language": "python",
   "name": "python3"
  },
  "language_info": {
   "codemirror_mode": {
    "name": "ipython",
    "version": 3
   },
   "file_extension": ".py",
   "mimetype": "text/x-python",
   "name": "python",
   "nbconvert_exporter": "python",
   "pygments_lexer": "ipython3",
   "version": "3.10.11"
  },
  "orig_nbformat": 4
 },
 "nbformat": 4,
 "nbformat_minor": 2
}
